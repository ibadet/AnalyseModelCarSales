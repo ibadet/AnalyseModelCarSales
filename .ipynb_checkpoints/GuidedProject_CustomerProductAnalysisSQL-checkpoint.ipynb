{
 "cells": [
  {
   "cell_type": "markdown",
   "id": "4b7e2f9f",
   "metadata": {},
   "source": [
    "## Customer and Product Analysis Of A Model Cars Company"
   ]
  },
  {
   "cell_type": "markdown",
   "id": "f5dc38f4",
   "metadata": {},
   "source": [
    "### Introduction\n",
    "\n",
    "A company that sales scale model cars wants to maximize the sales and increase its profits.For that purpose they reached out to us.They provided their dataset and wanted us to make an analysis on this dataset. Our aim is to explore the dataset they provided and find out some useful information they can use to reach their sales goals.\n",
    "\n",
    "The dataset and its schema can be found [here.](https://www.mysqltutorial.org/getting-started-with-mysql/mysql-sample-database/)\n",
    "\n",
    "The relation between tables can be seen on the schema below:\n",
    "<img src=\"images/datasetSchema.png\" width=500px />\n",
    "\n",
    "It contains eight tables:\n",
    "\n",
    "* Customers: customer data\n",
    "* Employees: all employee information\n",
    "* Offices: sales office information\n",
    "* Orders: customers' sales orders\n",
    "* OrderDetails: sales order line for each sales order\n",
    "* Payments: customers' payment records\n",
    "* Products: a list of scale model cars\n",
    "* ProductLines: a list of product line categories\n"
   ]
  },
  {
   "cell_type": "markdown",
   "id": "2d126af3",
   "metadata": {},
   "source": [
    "\n",
    "### Exploring the database"
   ]
  },
  {
   "cell_type": "code",
   "execution_count": 8,
   "id": "e41218a0",
   "metadata": {},
   "outputs": [],
   "source": [
    "import sqlite3\n",
    "\n",
    "conn=sqlite3.connect(\"store.db\")\n",
    "cursor=conn.cursor()\n",
    "#cursor.execute(\"SELECT * FROM products;\")\n",
    "#results=cursor.fetchall();\n",
    "conn.close()\n"
   ]
  },
  {
   "cell_type": "markdown",
   "id": "402d850c",
   "metadata": {},
   "source": [
    "Exploring the tables with sql we found the number of rows for each table.\n",
    "<img src=\"images/numberofrows.png\" width=500px/>"
   ]
  },
  {
   "cell_type": "markdown",
   "id": "fc4d8b77",
   "metadata": {},
   "source": [
    "### Analyzing the data "
   ]
  },
  {
   "cell_type": "markdown",
   "id": "8713a28c",
   "metadata": {},
   "source": [
    "### Conclusion"
   ]
  },
  {
   "cell_type": "code",
   "execution_count": null,
   "id": "b8f9b11f",
   "metadata": {},
   "outputs": [],
   "source": []
  }
 ],
 "metadata": {
  "kernelspec": {
   "display_name": "Python 3 (ipykernel)",
   "language": "python",
   "name": "python3"
  },
  "language_info": {
   "codemirror_mode": {
    "name": "ipython",
    "version": 3
   },
   "file_extension": ".py",
   "mimetype": "text/x-python",
   "name": "python",
   "nbconvert_exporter": "python",
   "pygments_lexer": "ipython3",
   "version": "3.11.5"
  }
 },
 "nbformat": 4,
 "nbformat_minor": 5
}
