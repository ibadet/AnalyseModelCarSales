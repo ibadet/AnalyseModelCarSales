{
 "cells": [
  {
   "cell_type": "markdown",
   "id": "4b7e2f9f",
   "metadata": {},
   "source": [
    "## Customer and Product Analysis Of A Model Cars Company"
   ]
  },
  {
   "cell_type": "markdown",
   "id": "f5dc38f4",
   "metadata": {},
   "source": [
    "### Introduction\n",
    "\n",
    "A company that sales scale model cars wants to maximize the sales and increase its profits.For that purpose they reached out to us.They provided their dataset and wanted us to make an analysis on this dataset. Our aim is to explore the dataset they provided and find out some useful information they can use to reach their sales goals.\n",
    "\n",
    "The dataset and its schema can be found [here.](https://www.mysqltutorial.org/getting-started-with-mysql/mysql-sample-database/)\n",
    "\n",
    "The relation between tables can be seen on the schema below:\n",
    "<img src=\"images/datasetSchema.png\" width=500px />\n",
    "\n",
    "It contains eight tables:\n",
    "\n",
    "* Customers: customer data\n",
    "* Employees: all employee information\n",
    "* Offices: sales office information\n",
    "* Orders: customers' sales orders\n",
    "* OrderDetails: sales order line for each sales order\n",
    "* Payments: customers' payment records\n",
    "* Products: a list of scale model cars\n",
    "* ProductLines: a list of product line categories\n"
   ]
  },
  {
   "cell_type": "markdown",
   "id": "2d126af3",
   "metadata": {},
   "source": [
    "\n",
    "### Exploring the database"
   ]
  },
  {
   "cell_type": "code",
   "execution_count": 8,
   "id": "e41218a0",
   "metadata": {},
   "outputs": [],
   "source": [
    "import sqlite3\n",
    "\n",
    "conn=sqlite3.connect(\"store.db\")\n",
    "cursor=conn.cursor()\n",
    "#cursor.execute(\"SELECT * FROM products;\")\n",
    "#results=cursor.fetchall();\n",
    "conn.close()\n"
   ]
  },
  {
   "cell_type": "markdown",
   "id": "402d850c",
   "metadata": {},
   "source": [
    "Exploring the tables with sql (exploring_tables.sql) we found the number of rows for each table.\n",
    "<img src=\"images/numberofrows.png\" width=500px/>"
   ]
  },
  {
   "cell_type": "markdown",
   "id": "fc4d8b77",
   "metadata": {},
   "source": [
    "### Analyzing the data "
   ]
  },
  {
   "cell_type": "markdown",
   "id": "51d00fe6",
   "metadata": {},
   "source": [
    "#### Which Products Should We Order More of or Less of?\n",
    " \n",
    "In order  to answer this question we should determine which porducts are in low stock and has a high product performance.\n",
    "The low stock represents the quantity of the sum of each product ordered divided by the quantity of product in stock. \n",
    "We can consider the ten highest rates. These will be the top ten products that are almost out-of-stock or completely out-of-stock.\n",
    "The product performance represents the sum of sales per product.\n",
    "Priority products for restocking are those with high product performance that are on the brink of being out of stock.\n",
    "\n",
    "The query  (priorityproduct_restock.sql) will determine the priority products for restocking. The output of the query is: <img src=\"images/priorityproducts_restock.png\" width=500px/>"
   ]
  },
  {
   "cell_type": "markdown",
   "id": "605a62ca",
   "metadata": {},
   "source": [
    "#### How Should We Match Marketing and Communication Strategies to Customer Behavior?\n",
    "\n",
    "This question involves categorizing customers: finding the VIP (very important person) customers and those who are less engaged.\n",
    "\n",
    "topfivecustomers.sql is used in order to find top five customers:<img src=\"images/topfivecustomers.png\" width=500px/>\n"
   ]
  },
  {
   "cell_type": "markdown",
   "id": "63e5ea82",
   "metadata": {},
   "source": [
    "Now, similarly we will find five least engaged customers with leastengagedcustomers.sql query.The output of the query is:\n",
    "<img src=\"images/leastengagedcustomers.png\" width=700px/>\n"
   ]
  },
  {
   "cell_type": "markdown",
   "id": "7bc160b9",
   "metadata": {},
   "source": [
    "#### How Much Can We Spend on Acquiring New Customers?\n",
    "\n",
    "To determine how much money we can spend acquiring new customers, \n",
    "we can compute the Customer Lifetime Value (LTV), which represents the average amount of money a customer generates.\n",
    "We can then determine how much we can spend on marketing.\n",
    "\n",
    "The query customerLTV.sql calculates the LTV: <img src=\"images/customerLTV.png\" width=500px/>"
   ]
  },
  {
   "cell_type": "markdown",
   "id": "a9d10c7b",
   "metadata": {},
   "source": [
    "LTV tells us how much profit an average customer generates during their lifetime with our store. We can use it to predict our future profit. So, if we get ten new customers next month, we'll earn 390,395 dollars, and we can decide based on this prediction how much we can spend on acquiring new customers."
   ]
  },
  {
   "cell_type": "markdown",
   "id": "8713a28c",
   "metadata": {},
   "source": [
    "### Conclusion"
   ]
  },
  {
   "cell_type": "markdown",
   "id": "8e5125ab",
   "metadata": {},
   "source": [
    "In this project, we explored a dataset of a model car company. We determined the most sold products.\n",
    "Also we found the products in low quantity among those popular ones. \n",
    "Using this product list the company will be able to know which products to restock primarily.\n",
    "\n",
    "After that, we found the top customers and least engaged customers.\n",
    "The company can launch a campaign and organize events to drive loyalty for those customers.\n",
    "\n",
    "Lastly, we calculated the average of revenues for each customer. Having this information, the company can make a prediction about how much money each newly acquired customer will add to the revenue.\n"
   ]
  }
 ],
 "metadata": {
  "kernelspec": {
   "display_name": "Python 3 (ipykernel)",
   "language": "python",
   "name": "python3"
  },
  "language_info": {
   "codemirror_mode": {
    "name": "ipython",
    "version": 3
   },
   "file_extension": ".py",
   "mimetype": "text/x-python",
   "name": "python",
   "nbconvert_exporter": "python",
   "pygments_lexer": "ipython3",
   "version": "3.11.5"
  }
 },
 "nbformat": 4,
 "nbformat_minor": 5
}
